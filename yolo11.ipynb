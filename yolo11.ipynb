{
 "cells": [
  {
   "cell_type": "code",
   "execution_count": 2,
   "id": "12fbc24e",
   "metadata": {},
   "outputs": [],
   "source": [
    "from ultralytics import YOLO"
   ]
  },
  {
   "cell_type": "code",
   "execution_count": 3,
   "id": "f5ab8f1f",
   "metadata": {},
   "outputs": [],
   "source": [
    "model = YOLO('yolo11n.pt')"
   ]
  },
  {
   "cell_type": "code",
   "execution_count": 4,
   "id": "70a864a2",
   "metadata": {},
   "outputs": [],
   "source": [
    "# results = model(\"WIN_20180401_13_20_44_Pro.mp4\", save=True, show=True)"
   ]
  },
  {
   "cell_type": "code",
   "execution_count": null,
   "id": "179f0d82",
   "metadata": {},
   "outputs": [],
   "source": []
  },
  {
   "cell_type": "code",
   "execution_count": 7,
   "id": "6734a539",
   "metadata": {},
   "outputs": [],
   "source": [
    "def detect_objects(image):\n",
    "  results = model(image)[0]\n",
    "\n",
    "  detections = []\n",
    "  for result in results.boxes.data.tolist():\n",
    "    x1, y1, x2, y2, score, class_id = result\n",
    "    detections.append([int(x1), int(y1), int(x2), int(y2), round(score, 3), results.names[int(class_id)]])\n",
    "\n",
    "  return detections"
   ]
  },
  {
   "cell_type": "code",
   "execution_count": 8,
   "id": "48a6c19d",
   "metadata": {},
   "outputs": [
    {
     "name": "stdout",
     "output_type": "stream",
     "text": [
      "\n",
      "image 1/1 /Users/annahan/Documents/uv-playground/object-detection/IMG_9109.jpg: 640x448 2 persons, 115.0ms\n",
      "Speed: 24.3ms preprocess, 115.0ms inference, 17.2ms postprocess per image at shape (1, 3, 640, 448)\n",
      "[2178, 2548, 2861, 5107, 0.876, 'person']\n",
      "[1683, 2261, 2340, 5170, 0.861, 'person']\n"
     ]
    }
   ],
   "source": [
    "for detection in detect_objects('IMG_9109.jpg'):\n",
    "  print(detection)"
   ]
  },
  {
   "cell_type": "code",
   "execution_count": null,
   "id": "9f56e933",
   "metadata": {},
   "outputs": [],
   "source": [
    "# Compute the recall and precision\n",
    "\n",
    "# Set the iou threshold\n",
    "iou_threshold = 0.5\n",
    "\n",
    "# Loop  over a list of confidence score thresholds\n",
    "for confidence_score_threshold in [0,.25,.5,.75]:\n",
    "  # Start counter\n",
    "  true_positives, false_positives = 0, 0\n",
    "  for detection in detect_objects('IMG_9109.jpg'):\n",
    "    if detection.confidence_score > confidence_score_threshold:\n",
    "      if iou(detection.bbox, ground_truth) > iou_threshold:\n",
    "        true_positives += 1\n",
    "      else:\n",
    "        false_positives += 1"
   ]
  }
 ],
 "metadata": {
  "kernelspec": {
   "display_name": "object-detection",
   "language": "python",
   "name": "python3"
  },
  "language_info": {
   "codemirror_mode": {
    "name": "ipython",
    "version": 3
   },
   "file_extension": ".py",
   "mimetype": "text/x-python",
   "name": "python",
   "nbconvert_exporter": "python",
   "pygments_lexer": "ipython3",
   "version": "3.12.9"
  }
 },
 "nbformat": 4,
 "nbformat_minor": 5
}
